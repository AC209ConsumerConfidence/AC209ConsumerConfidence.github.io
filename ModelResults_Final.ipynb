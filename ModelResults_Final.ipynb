{
 "cells": [
  {
   "cell_type": "code",
   "execution_count": 1,
   "metadata": {
    "collapsed": false
   },
   "outputs": [
    {
     "name": "stderr",
     "output_type": "stream",
     "text": [
      "/Users/kshain/anaconda/envs/AC209/lib/python2.7/site-packages/matplotlib/font_manager.py:273: UserWarning: Matplotlib is building the font cache using fc-list. This may take a moment.\n",
      "  warnings.warn('Matplotlib is building the font cache using fc-list. This may take a moment.')\n"
     ]
    }
   ],
   "source": [
    "import numpy as np\n",
    "import matplotlib\n",
    "import matplotlib.pyplot as plt\n",
    "import pandas as pd\n",
    "%matplotlib inline\n",
    "import datetime\n",
    "import csv\n",
    "import math\n",
    "import time\n",
    "from ProgressBar import ProgressBar\n",
    "import scipy\n",
    "import pickle\n",
    "import cPickle\n",
    "\n",
    "\n",
    "import nltk\n",
    "import string\n",
    "from collections import defaultdict\n",
    "from sklearn.feature_extraction.text import CountVectorizer\n",
    "from sklearn.feature_extraction.text import TfidfVectorizer\n",
    "\n",
    "from sklearn.decomposition import LatentDirichletAllocation\n",
    "from sklearn.linear_model import Lasso\n",
    "from sklearn.linear_model import LinearRegression\n",
    "from sklearn.cross_validation import train_test_split\n",
    "from sklearn.cross_validation import KFold\n",
    "from sklearn.svm import SVR\n",
    "from sklearn.ensemble import RandomForestRegressor\n",
    "from sklearn.ensemble import GradientBoostingRegressor\n",
    "from sklearn.discriminant_analysis import LinearDiscriminantAnalysis\n",
    "from sklearn.metrics import r2_score\n",
    "from pandas.tools.plotting import scatter_matrix\n",
    "\n",
    "pd.set_option('display.max_columns', None)\n",
    "pd.set_option('display.max_rows', None)\n",
    "\n",
    "import warnings\n",
    "warnings.filterwarnings('ignore')\n",
    "\n",
    "from sklearn.preprocessing import StandardScaler"
   ]
  },
  {
   "cell_type": "markdown",
   "metadata": {},
   "source": [
    "# <center> Modeling & Results</center>"
   ]
  },
  {
   "cell_type": "markdown",
   "metadata": {},
   "source": [
    "<ul>\n",
    "<li><h3><a href=\"#Manipulating-the-Data\">Manipulating the Data</a></h3></li>\n",
    "<ul>\n",
    "<li><a href=\"#Loading-the-data\">Loading the data</a></li>\n",
    "<li><a href=\"#Adding-lags\">Adding lags</a></li>\n",
    "</ul>\n",
    "<li><h3><a href=\"#Modeling\">Modeling</a></h3><ul>\n",
    "<li><a href=\"#Windowed-Leave-one-out cross-validation\">Windowed Leave-one-out cross validation</a></li>\n",
    "<li><a href=\"#Feature-selection\">Feature selection</a></li>\n",
    "<li><a href=\"#Trying-various-models\">Trying various models</a></li>\n",
    "<li><a href=\"#Ensemble-model\">Ensemble model</a></li>\n",
    "</ul>\n",
    "</li>\n",
    "<li><h3><a href=\"#Results\">Results</a></h3></li>\n",
    "</ul>"
   ]
  },
  {
   "cell_type": "markdown",
   "metadata": {},
   "source": [
    "## Manipulating the Data"
   ]
  },
  {
   "cell_type": "markdown",
   "metadata": {},
   "source": [
    "None of the models we have learned in class immediately apply to this dataset because the observations are correlated in time. One way to convert into a form with uncorrelated observations is to encode lagged values as features of the current observation. We choose the lags to include based on the significant terms in the ARIMA model. With all of the important temporal information encoded as features, we will not lose information by treating the observations as independent. "
   ]
  },
  {
   "cell_type": "markdown",
   "metadata": {},
   "source": [
    "### Loading the data"
   ]
  },
  {
   "cell_type": "markdown",
   "metadata": {},
   "source": [
    "We will be using the CCI, SentiWordNet scores, and LDA topic scores so we need to load all of them."
   ]
  },
  {
   "cell_type": "code",
   "execution_count": 2,
   "metadata": {
    "collapsed": false
   },
   "outputs": [
    {
     "data": {
      "text/html": [
       "<div>\n",
       "<table border=\"1\" class=\"dataframe\">\n",
       "  <thead>\n",
       "    <tr style=\"text-align: right;\">\n",
       "      <th></th>\n",
       "      <th>CCI</th>\n",
       "    </tr>\n",
       "    <tr>\n",
       "      <th>TIME</th>\n",
       "      <th></th>\n",
       "    </tr>\n",
       "  </thead>\n",
       "  <tbody>\n",
       "    <tr>\n",
       "      <th>1990-01</th>\n",
       "      <td>100.6027</td>\n",
       "    </tr>\n",
       "    <tr>\n",
       "      <th>1990-02</th>\n",
       "      <td>100.5847</td>\n",
       "    </tr>\n",
       "    <tr>\n",
       "      <th>1990-03</th>\n",
       "      <td>100.6537</td>\n",
       "    </tr>\n",
       "    <tr>\n",
       "      <th>1990-04</th>\n",
       "      <td>100.7061</td>\n",
       "    </tr>\n",
       "    <tr>\n",
       "      <th>1990-05</th>\n",
       "      <td>100.5763</td>\n",
       "    </tr>\n",
       "  </tbody>\n",
       "</table>\n",
       "</div>"
      ],
      "text/plain": [
       "              CCI\n",
       "TIME             \n",
       "1990-01  100.6027\n",
       "1990-02  100.5847\n",
       "1990-03  100.6537\n",
       "1990-04  100.7061\n",
       "1990-05  100.5763"
      ]
     },
     "execution_count": 2,
     "metadata": {},
     "output_type": "execute_result"
    }
   ],
   "source": [
    "CCI = pd.read_csv('CCI.csv')[['TIME','Value']]\n",
    "CCI.set_index('TIME', inplace=True)\n",
    "CCI.columns = ['CCI']\n",
    "CCIlimited = CCI.iloc[np.where(CCI.index=='1990-01')[0][0]:(np.where(CCI.index=='2016-09')[0]+1)[0]]\n",
    "CCIlimited.head()"
   ]
  },
  {
   "cell_type": "code",
   "execution_count": 3,
   "metadata": {
    "collapsed": false
   },
   "outputs": [
    {
     "data": {
      "text/html": [
       "<div>\n",
       "<table border=\"1\" class=\"dataframe\">\n",
       "  <thead>\n",
       "    <tr style=\"text-align: right;\">\n",
       "      <th></th>\n",
       "      <th>date</th>\n",
       "      <th>score</th>\n",
       "      <th>count</th>\n",
       "      <th>avg_score</th>\n",
       "    </tr>\n",
       "  </thead>\n",
       "  <tbody>\n",
       "    <tr>\n",
       "      <th>0</th>\n",
       "      <td>1990-01-01</td>\n",
       "      <td>9.250</td>\n",
       "      <td>535.0</td>\n",
       "      <td>0.017290</td>\n",
       "    </tr>\n",
       "    <tr>\n",
       "      <th>1</th>\n",
       "      <td>1990-01-02</td>\n",
       "      <td>17.875</td>\n",
       "      <td>1020.0</td>\n",
       "      <td>0.017525</td>\n",
       "    </tr>\n",
       "    <tr>\n",
       "      <th>2</th>\n",
       "      <td>1990-01-03</td>\n",
       "      <td>29.875</td>\n",
       "      <td>1291.0</td>\n",
       "      <td>0.023141</td>\n",
       "    </tr>\n",
       "    <tr>\n",
       "      <th>3</th>\n",
       "      <td>1990-01-04</td>\n",
       "      <td>24.500</td>\n",
       "      <td>981.0</td>\n",
       "      <td>0.024975</td>\n",
       "    </tr>\n",
       "    <tr>\n",
       "      <th>4</th>\n",
       "      <td>1990-01-05</td>\n",
       "      <td>22.750</td>\n",
       "      <td>991.0</td>\n",
       "      <td>0.022957</td>\n",
       "    </tr>\n",
       "  </tbody>\n",
       "</table>\n",
       "</div>"
      ],
      "text/plain": [
       "         date   score   count  avg_score\n",
       "0  1990-01-01   9.250   535.0   0.017290\n",
       "1  1990-01-02  17.875  1020.0   0.017525\n",
       "2  1990-01-03  29.875  1291.0   0.023141\n",
       "3  1990-01-04  24.500   981.0   0.024975\n",
       "4  1990-01-05  22.750   991.0   0.022957"
      ]
     },
     "execution_count": 3,
     "metadata": {},
     "output_type": "execute_result"
    }
   ],
   "source": [
    "sentiDF = pd.read_csv('daily_sentiment_1990_2016.csv')\n",
    "sentiDF.head()"
   ]
  },
  {
   "cell_type": "code",
   "execution_count": 4,
   "metadata": {
    "collapsed": false
   },
   "outputs": [],
   "source": [
    "sentiDF['yearmonth'] = sentiDF.date.apply(lambda x: x[:7])"
   ]
  },
  {
   "cell_type": "code",
   "execution_count": 5,
   "metadata": {
    "collapsed": false
   },
   "outputs": [],
   "source": [
    "sentiDF = sentiDF.groupby('yearmonth').sum()"
   ]
  },
  {
   "cell_type": "code",
   "execution_count": 6,
   "metadata": {
    "collapsed": false
   },
   "outputs": [
    {
     "data": {
      "text/html": [
       "<div>\n",
       "<table border=\"1\" class=\"dataframe\">\n",
       "  <thead>\n",
       "    <tr style=\"text-align: right;\">\n",
       "      <th></th>\n",
       "      <th>score</th>\n",
       "      <th>count</th>\n",
       "      <th>avg_score</th>\n",
       "      <th>full_avg</th>\n",
       "    </tr>\n",
       "    <tr>\n",
       "      <th>yearmonth</th>\n",
       "      <th></th>\n",
       "      <th></th>\n",
       "      <th></th>\n",
       "      <th></th>\n",
       "    </tr>\n",
       "  </thead>\n",
       "  <tbody>\n",
       "    <tr>\n",
       "      <th>1990-01</th>\n",
       "      <td>767.819</td>\n",
       "      <td>55530.0</td>\n",
       "      <td>0.468651</td>\n",
       "      <td>0.013827</td>\n",
       "    </tr>\n",
       "    <tr>\n",
       "      <th>1990-02</th>\n",
       "      <td>675.360</td>\n",
       "      <td>55170.0</td>\n",
       "      <td>0.380867</td>\n",
       "      <td>0.012241</td>\n",
       "    </tr>\n",
       "    <tr>\n",
       "      <th>1990-03</th>\n",
       "      <td>725.750</td>\n",
       "      <td>56620.0</td>\n",
       "      <td>0.448966</td>\n",
       "      <td>0.012818</td>\n",
       "    </tr>\n",
       "    <tr>\n",
       "      <th>1990-04</th>\n",
       "      <td>826.457</td>\n",
       "      <td>62133.0</td>\n",
       "      <td>0.422635</td>\n",
       "      <td>0.013301</td>\n",
       "    </tr>\n",
       "    <tr>\n",
       "      <th>1990-05</th>\n",
       "      <td>796.319</td>\n",
       "      <td>56484.0</td>\n",
       "      <td>0.483349</td>\n",
       "      <td>0.014098</td>\n",
       "    </tr>\n",
       "  </tbody>\n",
       "</table>\n",
       "</div>"
      ],
      "text/plain": [
       "             score    count  avg_score  full_avg\n",
       "yearmonth                                       \n",
       "1990-01    767.819  55530.0   0.468651  0.013827\n",
       "1990-02    675.360  55170.0   0.380867  0.012241\n",
       "1990-03    725.750  56620.0   0.448966  0.012818\n",
       "1990-04    826.457  62133.0   0.422635  0.013301\n",
       "1990-05    796.319  56484.0   0.483349  0.014098"
      ]
     },
     "execution_count": 6,
     "metadata": {},
     "output_type": "execute_result"
    }
   ],
   "source": [
    "sentiDF['full_avg'] = sentiDF.score/sentiDF['count']\n",
    "sentiDF.head()"
   ]
  },
  {
   "cell_type": "code",
   "execution_count": 7,
   "metadata": {
    "collapsed": true
   },
   "outputs": [],
   "source": [
    "topicsByMonthBigrams = np.load('topicsByMonthBigrams8.npy')"
   ]
  },
  {
   "cell_type": "code",
   "execution_count": 8,
   "metadata": {
    "collapsed": false
   },
   "outputs": [
    {
     "data": {
      "text/html": [
       "<div>\n",
       "<table border=\"1\" class=\"dataframe\">\n",
       "  <thead>\n",
       "    <tr style=\"text-align: right;\">\n",
       "      <th></th>\n",
       "      <th>Topic_1</th>\n",
       "      <th>Topic_2</th>\n",
       "      <th>Topic_3</th>\n",
       "      <th>Topic_4</th>\n",
       "      <th>Topic_5</th>\n",
       "      <th>Topic_6</th>\n",
       "      <th>Topic_7</th>\n",
       "      <th>Topic_8</th>\n",
       "    </tr>\n",
       "    <tr>\n",
       "      <th>TIME</th>\n",
       "      <th></th>\n",
       "      <th></th>\n",
       "      <th></th>\n",
       "      <th></th>\n",
       "      <th></th>\n",
       "      <th></th>\n",
       "      <th></th>\n",
       "      <th></th>\n",
       "    </tr>\n",
       "  </thead>\n",
       "  <tbody>\n",
       "    <tr>\n",
       "      <th>1990-01</th>\n",
       "      <td>1.913982</td>\n",
       "      <td>1.461154</td>\n",
       "      <td>0.828178</td>\n",
       "      <td>2.491152</td>\n",
       "      <td>17.328913</td>\n",
       "      <td>1.249416</td>\n",
       "      <td>1.802758</td>\n",
       "      <td>1.683289</td>\n",
       "    </tr>\n",
       "    <tr>\n",
       "      <th>1990-02</th>\n",
       "      <td>1.733826</td>\n",
       "      <td>1.287834</td>\n",
       "      <td>0.853428</td>\n",
       "      <td>2.340800</td>\n",
       "      <td>18.754974</td>\n",
       "      <td>1.077555</td>\n",
       "      <td>1.711945</td>\n",
       "      <td>1.400007</td>\n",
       "    </tr>\n",
       "    <tr>\n",
       "      <th>1990-03</th>\n",
       "      <td>1.971802</td>\n",
       "      <td>1.542993</td>\n",
       "      <td>1.444748</td>\n",
       "      <td>2.756039</td>\n",
       "      <td>15.394626</td>\n",
       "      <td>1.198170</td>\n",
       "      <td>2.060474</td>\n",
       "      <td>1.643949</td>\n",
       "    </tr>\n",
       "    <tr>\n",
       "      <th>1990-04</th>\n",
       "      <td>1.501901</td>\n",
       "      <td>1.433842</td>\n",
       "      <td>1.319508</td>\n",
       "      <td>2.064651</td>\n",
       "      <td>16.626989</td>\n",
       "      <td>1.061051</td>\n",
       "      <td>1.546536</td>\n",
       "      <td>2.067808</td>\n",
       "    </tr>\n",
       "    <tr>\n",
       "      <th>1990-05</th>\n",
       "      <td>1.981963</td>\n",
       "      <td>1.603194</td>\n",
       "      <td>1.433641</td>\n",
       "      <td>2.465391</td>\n",
       "      <td>14.500635</td>\n",
       "      <td>1.146554</td>\n",
       "      <td>1.750590</td>\n",
       "      <td>2.241273</td>\n",
       "    </tr>\n",
       "  </tbody>\n",
       "</table>\n",
       "</div>"
      ],
      "text/plain": [
       "          Topic_1   Topic_2   Topic_3   Topic_4    Topic_5   Topic_6  \\\n",
       "TIME                                                                   \n",
       "1990-01  1.913982  1.461154  0.828178  2.491152  17.328913  1.249416   \n",
       "1990-02  1.733826  1.287834  0.853428  2.340800  18.754974  1.077555   \n",
       "1990-03  1.971802  1.542993  1.444748  2.756039  15.394626  1.198170   \n",
       "1990-04  1.501901  1.433842  1.319508  2.064651  16.626989  1.061051   \n",
       "1990-05  1.981963  1.603194  1.433641  2.465391  14.500635  1.146554   \n",
       "\n",
       "          Topic_7   Topic_8  \n",
       "TIME                         \n",
       "1990-01  1.802758  1.683289  \n",
       "1990-02  1.711945  1.400007  \n",
       "1990-03  2.060474  1.643949  \n",
       "1990-04  1.546536  2.067808  \n",
       "1990-05  1.750590  2.241273  "
      ]
     },
     "execution_count": 8,
     "metadata": {},
     "output_type": "execute_result"
    }
   ],
   "source": [
    "n_topics=8\n",
    "topicsDF = pd.DataFrame(topicsByMonthBigrams)\n",
    "topicsDF.columns = ['Topic_{}'.format(i) for i in range(1,(n_topics+1))]\n",
    "topicsDF.index = CCIlimited.index\n",
    "topicsDF.head()"
   ]
  },
  {
   "cell_type": "markdown",
   "metadata": {},
   "source": [
    "Then, we can put all of the columns into one dataframe."
   ]
  },
  {
   "cell_type": "code",
   "execution_count": 9,
   "metadata": {
    "collapsed": true
   },
   "outputs": [],
   "source": [
    "topicsSentiCCI = pd.concat([CCIlimited, topicsDF, sentiDF.full_avg], axis=1)"
   ]
  },
  {
   "cell_type": "markdown",
   "metadata": {},
   "source": [
    "### Adding lags"
   ]
  },
  {
   "cell_type": "markdown",
   "metadata": {},
   "source": [
    "We want to predict one month ahead, so we limit the features to lagging at least one month behind the target observation. Pandas includes the `shift` function which can nicely offset a column, which has the same effect as getting the lagged value since our data is ordered to begin with. Lastly, we want to obtain a dataframe using all of the predictors lagged and another just using the lagged CCI to use as a baseline."
   ]
  },
  {
   "cell_type": "code",
   "execution_count": 10,
   "metadata": {
    "collapsed": true
   },
   "outputs": [],
   "source": [
    "CCIdf = pd.DataFrame(CCIlimited)"
   ]
  },
  {
   "cell_type": "code",
   "execution_count": 11,
   "metadata": {
    "collapsed": true
   },
   "outputs": [],
   "source": [
    "def applyShifts(df, shifts):\n",
    "    finaldf = df\n",
    "    for i in shifts:\n",
    "        newdf = df.shift(periods=i)\n",
    "        newdf.columns = [s + '_lag_{}'.format(i) for s in df.columns]\n",
    "        finaldf = pd.concat([finaldf, newdf], axis=1)\n",
    "    finaldf = finaldf.dropna(how=\"any\", axis=0)\n",
    "    return finaldf"
   ]
  },
  {
   "cell_type": "code",
   "execution_count": 12,
   "metadata": {
    "collapsed": true
   },
   "outputs": [],
   "source": [
    "topicsSentiCCI_withLags = applyShifts(topicsSentiCCI, [1,2]) # All predictors lagged"
   ]
  },
  {
   "cell_type": "code",
   "execution_count": 13,
   "metadata": {
    "collapsed": true
   },
   "outputs": [],
   "source": [
    "CCI_withLags = applyShifts(CCIdf, [1,2]) # Just CCI for baseline"
   ]
  },
  {
   "cell_type": "code",
   "execution_count": 14,
   "metadata": {
    "collapsed": false
   },
   "outputs": [
    {
     "data": {
      "text/html": [
       "<div>\n",
       "<table border=\"1\" class=\"dataframe\">\n",
       "  <thead>\n",
       "    <tr style=\"text-align: right;\">\n",
       "      <th></th>\n",
       "      <th>CCI</th>\n",
       "      <th>Topic_1</th>\n",
       "      <th>Topic_2</th>\n",
       "      <th>Topic_3</th>\n",
       "      <th>Topic_4</th>\n",
       "      <th>Topic_5</th>\n",
       "      <th>Topic_6</th>\n",
       "      <th>Topic_7</th>\n",
       "      <th>Topic_8</th>\n",
       "      <th>full_avg</th>\n",
       "      <th>CCI_lag_1</th>\n",
       "      <th>Topic_1_lag_1</th>\n",
       "      <th>Topic_2_lag_1</th>\n",
       "      <th>Topic_3_lag_1</th>\n",
       "      <th>Topic_4_lag_1</th>\n",
       "      <th>Topic_5_lag_1</th>\n",
       "      <th>Topic_6_lag_1</th>\n",
       "      <th>Topic_7_lag_1</th>\n",
       "      <th>Topic_8_lag_1</th>\n",
       "      <th>full_avg_lag_1</th>\n",
       "      <th>CCI_lag_2</th>\n",
       "      <th>Topic_1_lag_2</th>\n",
       "      <th>Topic_2_lag_2</th>\n",
       "      <th>Topic_3_lag_2</th>\n",
       "      <th>Topic_4_lag_2</th>\n",
       "      <th>Topic_5_lag_2</th>\n",
       "      <th>Topic_6_lag_2</th>\n",
       "      <th>Topic_7_lag_2</th>\n",
       "      <th>Topic_8_lag_2</th>\n",
       "      <th>full_avg_lag_2</th>\n",
       "    </tr>\n",
       "  </thead>\n",
       "  <tbody>\n",
       "    <tr>\n",
       "      <th>1990-03</th>\n",
       "      <td>100.6537</td>\n",
       "      <td>1.971802</td>\n",
       "      <td>1.542993</td>\n",
       "      <td>1.444748</td>\n",
       "      <td>2.756039</td>\n",
       "      <td>15.394626</td>\n",
       "      <td>1.198170</td>\n",
       "      <td>2.060474</td>\n",
       "      <td>1.643949</td>\n",
       "      <td>0.012818</td>\n",
       "      <td>100.5847</td>\n",
       "      <td>1.733826</td>\n",
       "      <td>1.287834</td>\n",
       "      <td>0.853428</td>\n",
       "      <td>2.340800</td>\n",
       "      <td>18.754974</td>\n",
       "      <td>1.077555</td>\n",
       "      <td>1.711945</td>\n",
       "      <td>1.400007</td>\n",
       "      <td>0.012241</td>\n",
       "      <td>100.6027</td>\n",
       "      <td>1.913982</td>\n",
       "      <td>1.461154</td>\n",
       "      <td>0.828178</td>\n",
       "      <td>2.491152</td>\n",
       "      <td>17.328913</td>\n",
       "      <td>1.249416</td>\n",
       "      <td>1.802758</td>\n",
       "      <td>1.683289</td>\n",
       "      <td>0.013827</td>\n",
       "    </tr>\n",
       "    <tr>\n",
       "      <th>1990-04</th>\n",
       "      <td>100.7061</td>\n",
       "      <td>1.501901</td>\n",
       "      <td>1.433842</td>\n",
       "      <td>1.319508</td>\n",
       "      <td>2.064651</td>\n",
       "      <td>16.626989</td>\n",
       "      <td>1.061051</td>\n",
       "      <td>1.546536</td>\n",
       "      <td>2.067808</td>\n",
       "      <td>0.013301</td>\n",
       "      <td>100.6537</td>\n",
       "      <td>1.971802</td>\n",
       "      <td>1.542993</td>\n",
       "      <td>1.444748</td>\n",
       "      <td>2.756039</td>\n",
       "      <td>15.394626</td>\n",
       "      <td>1.198170</td>\n",
       "      <td>2.060474</td>\n",
       "      <td>1.643949</td>\n",
       "      <td>0.012818</td>\n",
       "      <td>100.5847</td>\n",
       "      <td>1.733826</td>\n",
       "      <td>1.287834</td>\n",
       "      <td>0.853428</td>\n",
       "      <td>2.340800</td>\n",
       "      <td>18.754974</td>\n",
       "      <td>1.077555</td>\n",
       "      <td>1.711945</td>\n",
       "      <td>1.400007</td>\n",
       "      <td>0.012241</td>\n",
       "    </tr>\n",
       "    <tr>\n",
       "      <th>1990-05</th>\n",
       "      <td>100.5763</td>\n",
       "      <td>1.981963</td>\n",
       "      <td>1.603194</td>\n",
       "      <td>1.433641</td>\n",
       "      <td>2.465391</td>\n",
       "      <td>14.500635</td>\n",
       "      <td>1.146554</td>\n",
       "      <td>1.750590</td>\n",
       "      <td>2.241273</td>\n",
       "      <td>0.014098</td>\n",
       "      <td>100.7061</td>\n",
       "      <td>1.501901</td>\n",
       "      <td>1.433842</td>\n",
       "      <td>1.319508</td>\n",
       "      <td>2.064651</td>\n",
       "      <td>16.626989</td>\n",
       "      <td>1.061051</td>\n",
       "      <td>1.546536</td>\n",
       "      <td>2.067808</td>\n",
       "      <td>0.013301</td>\n",
       "      <td>100.6537</td>\n",
       "      <td>1.971802</td>\n",
       "      <td>1.542993</td>\n",
       "      <td>1.444748</td>\n",
       "      <td>2.756039</td>\n",
       "      <td>15.394626</td>\n",
       "      <td>1.198170</td>\n",
       "      <td>2.060474</td>\n",
       "      <td>1.643949</td>\n",
       "      <td>0.012818</td>\n",
       "    </tr>\n",
       "    <tr>\n",
       "      <th>1990-06</th>\n",
       "      <td>100.2907</td>\n",
       "      <td>3.757367</td>\n",
       "      <td>2.412851</td>\n",
       "      <td>1.542730</td>\n",
       "      <td>5.385177</td>\n",
       "      <td>0.700988</td>\n",
       "      <td>2.175334</td>\n",
       "      <td>3.724585</td>\n",
       "      <td>2.684647</td>\n",
       "      <td>0.020079</td>\n",
       "      <td>100.5763</td>\n",
       "      <td>1.981963</td>\n",
       "      <td>1.603194</td>\n",
       "      <td>1.433641</td>\n",
       "      <td>2.465391</td>\n",
       "      <td>14.500635</td>\n",
       "      <td>1.146554</td>\n",
       "      <td>1.750590</td>\n",
       "      <td>2.241273</td>\n",
       "      <td>0.014098</td>\n",
       "      <td>100.7061</td>\n",
       "      <td>1.501901</td>\n",
       "      <td>1.433842</td>\n",
       "      <td>1.319508</td>\n",
       "      <td>2.064651</td>\n",
       "      <td>16.626989</td>\n",
       "      <td>1.061051</td>\n",
       "      <td>1.546536</td>\n",
       "      <td>2.067808</td>\n",
       "      <td>0.013301</td>\n",
       "    </tr>\n",
       "    <tr>\n",
       "      <th>1990-07</th>\n",
       "      <td>99.8083</td>\n",
       "      <td>2.129353</td>\n",
       "      <td>1.503426</td>\n",
       "      <td>1.377753</td>\n",
       "      <td>2.539549</td>\n",
       "      <td>15.332070</td>\n",
       "      <td>1.273006</td>\n",
       "      <td>2.108370</td>\n",
       "      <td>2.016001</td>\n",
       "      <td>0.013509</td>\n",
       "      <td>100.2907</td>\n",
       "      <td>3.757367</td>\n",
       "      <td>2.412851</td>\n",
       "      <td>1.542730</td>\n",
       "      <td>5.385177</td>\n",
       "      <td>0.700988</td>\n",
       "      <td>2.175334</td>\n",
       "      <td>3.724585</td>\n",
       "      <td>2.684647</td>\n",
       "      <td>0.020079</td>\n",
       "      <td>100.5763</td>\n",
       "      <td>1.981963</td>\n",
       "      <td>1.603194</td>\n",
       "      <td>1.433641</td>\n",
       "      <td>2.465391</td>\n",
       "      <td>14.500635</td>\n",
       "      <td>1.146554</td>\n",
       "      <td>1.750590</td>\n",
       "      <td>2.241273</td>\n",
       "      <td>0.014098</td>\n",
       "    </tr>\n",
       "  </tbody>\n",
       "</table>\n",
       "</div>"
      ],
      "text/plain": [
       "              CCI   Topic_1   Topic_2   Topic_3   Topic_4    Topic_5  \\\n",
       "1990-03  100.6537  1.971802  1.542993  1.444748  2.756039  15.394626   \n",
       "1990-04  100.7061  1.501901  1.433842  1.319508  2.064651  16.626989   \n",
       "1990-05  100.5763  1.981963  1.603194  1.433641  2.465391  14.500635   \n",
       "1990-06  100.2907  3.757367  2.412851  1.542730  5.385177   0.700988   \n",
       "1990-07   99.8083  2.129353  1.503426  1.377753  2.539549  15.332070   \n",
       "\n",
       "          Topic_6   Topic_7   Topic_8  full_avg  CCI_lag_1  Topic_1_lag_1  \\\n",
       "1990-03  1.198170  2.060474  1.643949  0.012818   100.5847       1.733826   \n",
       "1990-04  1.061051  1.546536  2.067808  0.013301   100.6537       1.971802   \n",
       "1990-05  1.146554  1.750590  2.241273  0.014098   100.7061       1.501901   \n",
       "1990-06  2.175334  3.724585  2.684647  0.020079   100.5763       1.981963   \n",
       "1990-07  1.273006  2.108370  2.016001  0.013509   100.2907       3.757367   \n",
       "\n",
       "         Topic_2_lag_1  Topic_3_lag_1  Topic_4_lag_1  Topic_5_lag_1  \\\n",
       "1990-03       1.287834       0.853428       2.340800      18.754974   \n",
       "1990-04       1.542993       1.444748       2.756039      15.394626   \n",
       "1990-05       1.433842       1.319508       2.064651      16.626989   \n",
       "1990-06       1.603194       1.433641       2.465391      14.500635   \n",
       "1990-07       2.412851       1.542730       5.385177       0.700988   \n",
       "\n",
       "         Topic_6_lag_1  Topic_7_lag_1  Topic_8_lag_1  full_avg_lag_1  \\\n",
       "1990-03       1.077555       1.711945       1.400007        0.012241   \n",
       "1990-04       1.198170       2.060474       1.643949        0.012818   \n",
       "1990-05       1.061051       1.546536       2.067808        0.013301   \n",
       "1990-06       1.146554       1.750590       2.241273        0.014098   \n",
       "1990-07       2.175334       3.724585       2.684647        0.020079   \n",
       "\n",
       "         CCI_lag_2  Topic_1_lag_2  Topic_2_lag_2  Topic_3_lag_2  \\\n",
       "1990-03   100.6027       1.913982       1.461154       0.828178   \n",
       "1990-04   100.5847       1.733826       1.287834       0.853428   \n",
       "1990-05   100.6537       1.971802       1.542993       1.444748   \n",
       "1990-06   100.7061       1.501901       1.433842       1.319508   \n",
       "1990-07   100.5763       1.981963       1.603194       1.433641   \n",
       "\n",
       "         Topic_4_lag_2  Topic_5_lag_2  Topic_6_lag_2  Topic_7_lag_2  \\\n",
       "1990-03       2.491152      17.328913       1.249416       1.802758   \n",
       "1990-04       2.340800      18.754974       1.077555       1.711945   \n",
       "1990-05       2.756039      15.394626       1.198170       2.060474   \n",
       "1990-06       2.064651      16.626989       1.061051       1.546536   \n",
       "1990-07       2.465391      14.500635       1.146554       1.750590   \n",
       "\n",
       "         Topic_8_lag_2  full_avg_lag_2  \n",
       "1990-03       1.683289        0.013827  \n",
       "1990-04       1.400007        0.012241  \n",
       "1990-05       1.643949        0.012818  \n",
       "1990-06       2.067808        0.013301  \n",
       "1990-07       2.241273        0.014098  "
      ]
     },
     "execution_count": 14,
     "metadata": {},
     "output_type": "execute_result"
    }
   ],
   "source": [
    "topicsSentiCCI_withLags.head()"
   ]
  },
  {
   "cell_type": "markdown",
   "metadata": {},
   "source": [
    "At this point, we still have the unlagged columns in our dataframes, so we have to drop all of those columns."
   ]
  },
  {
   "cell_type": "code",
   "execution_count": 15,
   "metadata": {
    "collapsed": true
   },
   "outputs": [],
   "source": [
    "y = topicsSentiCCI_withLags.CCI\n",
    "X = topicsSentiCCI_withLags.drop(topicsSentiCCI.columns, axis=1)\n",
    "X_justCCI = CCI_withLags.drop(['CCI'], axis=1)"
   ]
  },
  {
   "cell_type": "code",
   "execution_count": 16,
   "metadata": {
    "collapsed": false
   },
   "outputs": [
    {
     "data": {
      "text/html": [
       "<div>\n",
       "<table border=\"1\" class=\"dataframe\">\n",
       "  <thead>\n",
       "    <tr style=\"text-align: right;\">\n",
       "      <th></th>\n",
       "      <th>CCI</th>\n",
       "      <th>CCI_lag_1</th>\n",
       "      <th>Topic_1_lag_1</th>\n",
       "      <th>Topic_2_lag_1</th>\n",
       "      <th>Topic_3_lag_1</th>\n",
       "      <th>Topic_4_lag_1</th>\n",
       "      <th>Topic_5_lag_1</th>\n",
       "      <th>Topic_6_lag_1</th>\n",
       "      <th>Topic_7_lag_1</th>\n",
       "      <th>Topic_8_lag_1</th>\n",
       "      <th>full_avg_lag_1</th>\n",
       "      <th>CCI_lag_2</th>\n",
       "      <th>Topic_1_lag_2</th>\n",
       "      <th>Topic_2_lag_2</th>\n",
       "      <th>Topic_3_lag_2</th>\n",
       "      <th>Topic_4_lag_2</th>\n",
       "      <th>Topic_5_lag_2</th>\n",
       "      <th>Topic_6_lag_2</th>\n",
       "      <th>Topic_7_lag_2</th>\n",
       "      <th>Topic_8_lag_2</th>\n",
       "      <th>full_avg_lag_2</th>\n",
       "    </tr>\n",
       "  </thead>\n",
       "  <tbody>\n",
       "    <tr>\n",
       "      <th>1990-03</th>\n",
       "      <td>100.6537</td>\n",
       "      <td>100.5847</td>\n",
       "      <td>1.733826</td>\n",
       "      <td>1.287834</td>\n",
       "      <td>0.853428</td>\n",
       "      <td>2.340800</td>\n",
       "      <td>18.754974</td>\n",
       "      <td>1.077555</td>\n",
       "      <td>1.711945</td>\n",
       "      <td>1.400007</td>\n",
       "      <td>0.012241</td>\n",
       "      <td>100.6027</td>\n",
       "      <td>1.913982</td>\n",
       "      <td>1.461154</td>\n",
       "      <td>0.828178</td>\n",
       "      <td>2.491152</td>\n",
       "      <td>17.328913</td>\n",
       "      <td>1.249416</td>\n",
       "      <td>1.802758</td>\n",
       "      <td>1.683289</td>\n",
       "      <td>0.013827</td>\n",
       "    </tr>\n",
       "    <tr>\n",
       "      <th>1990-04</th>\n",
       "      <td>100.7061</td>\n",
       "      <td>100.6537</td>\n",
       "      <td>1.971802</td>\n",
       "      <td>1.542993</td>\n",
       "      <td>1.444748</td>\n",
       "      <td>2.756039</td>\n",
       "      <td>15.394626</td>\n",
       "      <td>1.198170</td>\n",
       "      <td>2.060474</td>\n",
       "      <td>1.643949</td>\n",
       "      <td>0.012818</td>\n",
       "      <td>100.5847</td>\n",
       "      <td>1.733826</td>\n",
       "      <td>1.287834</td>\n",
       "      <td>0.853428</td>\n",
       "      <td>2.340800</td>\n",
       "      <td>18.754974</td>\n",
       "      <td>1.077555</td>\n",
       "      <td>1.711945</td>\n",
       "      <td>1.400007</td>\n",
       "      <td>0.012241</td>\n",
       "    </tr>\n",
       "    <tr>\n",
       "      <th>1990-05</th>\n",
       "      <td>100.5763</td>\n",
       "      <td>100.7061</td>\n",
       "      <td>1.501901</td>\n",
       "      <td>1.433842</td>\n",
       "      <td>1.319508</td>\n",
       "      <td>2.064651</td>\n",
       "      <td>16.626989</td>\n",
       "      <td>1.061051</td>\n",
       "      <td>1.546536</td>\n",
       "      <td>2.067808</td>\n",
       "      <td>0.013301</td>\n",
       "      <td>100.6537</td>\n",
       "      <td>1.971802</td>\n",
       "      <td>1.542993</td>\n",
       "      <td>1.444748</td>\n",
       "      <td>2.756039</td>\n",
       "      <td>15.394626</td>\n",
       "      <td>1.198170</td>\n",
       "      <td>2.060474</td>\n",
       "      <td>1.643949</td>\n",
       "      <td>0.012818</td>\n",
       "    </tr>\n",
       "    <tr>\n",
       "      <th>1990-06</th>\n",
       "      <td>100.2907</td>\n",
       "      <td>100.5763</td>\n",
       "      <td>1.981963</td>\n",
       "      <td>1.603194</td>\n",
       "      <td>1.433641</td>\n",
       "      <td>2.465391</td>\n",
       "      <td>14.500635</td>\n",
       "      <td>1.146554</td>\n",
       "      <td>1.750590</td>\n",
       "      <td>2.241273</td>\n",
       "      <td>0.014098</td>\n",
       "      <td>100.7061</td>\n",
       "      <td>1.501901</td>\n",
       "      <td>1.433842</td>\n",
       "      <td>1.319508</td>\n",
       "      <td>2.064651</td>\n",
       "      <td>16.626989</td>\n",
       "      <td>1.061051</td>\n",
       "      <td>1.546536</td>\n",
       "      <td>2.067808</td>\n",
       "      <td>0.013301</td>\n",
       "    </tr>\n",
       "    <tr>\n",
       "      <th>1990-07</th>\n",
       "      <td>99.8083</td>\n",
       "      <td>100.2907</td>\n",
       "      <td>3.757367</td>\n",
       "      <td>2.412851</td>\n",
       "      <td>1.542730</td>\n",
       "      <td>5.385177</td>\n",
       "      <td>0.700988</td>\n",
       "      <td>2.175334</td>\n",
       "      <td>3.724585</td>\n",
       "      <td>2.684647</td>\n",
       "      <td>0.020079</td>\n",
       "      <td>100.5763</td>\n",
       "      <td>1.981963</td>\n",
       "      <td>1.603194</td>\n",
       "      <td>1.433641</td>\n",
       "      <td>2.465391</td>\n",
       "      <td>14.500635</td>\n",
       "      <td>1.146554</td>\n",
       "      <td>1.750590</td>\n",
       "      <td>2.241273</td>\n",
       "      <td>0.014098</td>\n",
       "    </tr>\n",
       "  </tbody>\n",
       "</table>\n",
       "</div>"
      ],
      "text/plain": [
       "              CCI  CCI_lag_1  Topic_1_lag_1  Topic_2_lag_1  Topic_3_lag_1  \\\n",
       "1990-03  100.6537   100.5847       1.733826       1.287834       0.853428   \n",
       "1990-04  100.7061   100.6537       1.971802       1.542993       1.444748   \n",
       "1990-05  100.5763   100.7061       1.501901       1.433842       1.319508   \n",
       "1990-06  100.2907   100.5763       1.981963       1.603194       1.433641   \n",
       "1990-07   99.8083   100.2907       3.757367       2.412851       1.542730   \n",
       "\n",
       "         Topic_4_lag_1  Topic_5_lag_1  Topic_6_lag_1  Topic_7_lag_1  \\\n",
       "1990-03       2.340800      18.754974       1.077555       1.711945   \n",
       "1990-04       2.756039      15.394626       1.198170       2.060474   \n",
       "1990-05       2.064651      16.626989       1.061051       1.546536   \n",
       "1990-06       2.465391      14.500635       1.146554       1.750590   \n",
       "1990-07       5.385177       0.700988       2.175334       3.724585   \n",
       "\n",
       "         Topic_8_lag_1  full_avg_lag_1  CCI_lag_2  Topic_1_lag_2  \\\n",
       "1990-03       1.400007        0.012241   100.6027       1.913982   \n",
       "1990-04       1.643949        0.012818   100.5847       1.733826   \n",
       "1990-05       2.067808        0.013301   100.6537       1.971802   \n",
       "1990-06       2.241273        0.014098   100.7061       1.501901   \n",
       "1990-07       2.684647        0.020079   100.5763       1.981963   \n",
       "\n",
       "         Topic_2_lag_2  Topic_3_lag_2  Topic_4_lag_2  Topic_5_lag_2  \\\n",
       "1990-03       1.461154       0.828178       2.491152      17.328913   \n",
       "1990-04       1.287834       0.853428       2.340800      18.754974   \n",
       "1990-05       1.542993       1.444748       2.756039      15.394626   \n",
       "1990-06       1.433842       1.319508       2.064651      16.626989   \n",
       "1990-07       1.603194       1.433641       2.465391      14.500635   \n",
       "\n",
       "         Topic_6_lag_2  Topic_7_lag_2  Topic_8_lag_2  full_avg_lag_2  \n",
       "1990-03       1.249416       1.802758       1.683289        0.013827  \n",
       "1990-04       1.077555       1.711945       1.400007        0.012241  \n",
       "1990-05       1.198170       2.060474       1.643949        0.012818  \n",
       "1990-06       1.061051       1.546536       2.067808        0.013301  \n",
       "1990-07       1.146554       1.750590       2.241273        0.014098  "
      ]
     },
     "execution_count": 16,
     "metadata": {},
     "output_type": "execute_result"
    }
   ],
   "source": [
    "pd.concat([y,X],axis=1).head()"
   ]
  },
  {
   "cell_type": "markdown",
   "metadata": {},
   "source": [
    "## Modeling"
   ]
  },
  {
   "cell_type": "markdown",
   "metadata": {},
   "source": [
    "### Windowed Leave-one-out cross validation"
   ]
  },
  {
   "cell_type": "markdown",
   "metadata": {},
   "source": [
    "Though the temporal information is redundantly encoded so we can use a model with independent observations, the observations are still not actually independent. Therefore, we do not want to evaluate the model on a test set that is dependent on the training set. To do this, we use a variation of leave-one-out cross validation that excludes a window around the test observation from use in the training set ([reference](http://directory.umm.ac.id/Data%20Elmu/jurnal/J-a/Journal%20of%20Econometrics/Vol99.Issue1.Nov2000/2139.pdf)). The window extends forward and backward from the test observation by the number of correlated lags derived from ARIMA.\n",
    "\n",
    "In practice, this amounts to doing LOOCV but also leaving out a larger window from the training set.\n",
    "<img src=\"WLOOCV.png\">"
   ]
  },
  {
   "cell_type": "code",
   "execution_count": 17,
   "metadata": {
    "collapsed": true
   },
   "outputs": [],
   "source": [
    "def evaluateModel_LOOCV(model, X, y, n_lags=14):\n",
    "    n = len(y)\n",
    "    RSS = 0\n",
    "    TSS = np.sum(np.square(y-np.mean(y)))\n",
    "    pred = np.zeros(n)\n",
    "    \n",
    "    for i in range(n):\n",
    "        \n",
    "        \n",
    "        X_test = X.iloc[i]\n",
    "        y_test = y.iloc[i]\n",
    "\n",
    "        train_indexes = list(range(i-n_lags))\n",
    "        train_indexes.extend(range(i+n_lags,n))\n",
    "        \n",
    "        X_train = X.iloc[train_indexes]\n",
    "        y_train = y.iloc[train_indexes]\n",
    "        scaler = StandardScaler()\n",
    "        \n",
    "        X_train_scaled = scaler.fit_transform(X_train)\n",
    "        X_test_scaled = scaler.transform(X_test)\n",
    "        \n",
    "        model.fit(X_train_scaled, y_train)\n",
    "        pred[i] = model.predict(X_test_scaled)\n",
    "        RSS += np.square(pred[i]-y_test)\n",
    "    R2 = (1-RSS/TSS)\n",
    "    MSE = RSS/n\n",
    "    return(R2, MSE, pred)"
   ]
  },
  {
   "cell_type": "markdown",
   "metadata": {},
   "source": [
    "### Feature selection"
   ]
  },
  {
   "cell_type": "markdown",
   "metadata": {},
   "source": [
    "Before model selection, feature selection is performed using Lasso regularization. This is because the model quickly becomes higher dimensional by including several lags of the CCI, topic scores, and sentiment scores. Lasso allows for the flexibility of considering many lags, while still producing a parsimonious model. The regularization parameter is chosen by windowed cross validation."
   ]
  },
  {
   "cell_type": "code",
   "execution_count": 30,
   "metadata": {
    "collapsed": false
   },
   "outputs": [],
   "source": [
    "alphas = [.000001,.00001,.0001,.001,.01,.1]\n",
    "R2 = np.zeros(len(alphas))\n",
    "for i, alpha in enumerate(alphas):\n",
    "    model = Lasso(alpha = alpha)\n",
    "    R2[i] = evaluateModel_LOOCV(model, X, y, n_lags=3)[0]"
   ]
  },
  {
   "cell_type": "code",
   "execution_count": 31,
   "metadata": {
    "collapsed": false
   },
   "outputs": [
    {
     "data": {
      "text/html": [
       "<div>\n",
       "<table border=\"1\" class=\"dataframe\">\n",
       "  <thead>\n",
       "    <tr style=\"text-align: right;\">\n",
       "      <th></th>\n",
       "      <th>1e-06</th>\n",
       "      <th>1e-05</th>\n",
       "      <th>0.0001</th>\n",
       "      <th>0.001</th>\n",
       "      <th>0.01</th>\n",
       "      <th>0.1</th>\n",
       "    </tr>\n",
       "  </thead>\n",
       "  <tbody>\n",
       "    <tr>\n",
       "      <th>R-squared</th>\n",
       "      <td>0.989603</td>\n",
       "      <td>0.98961</td>\n",
       "      <td>0.98965</td>\n",
       "      <td>0.989638</td>\n",
       "      <td>0.980689</td>\n",
       "      <td>0.968001</td>\n",
       "    </tr>\n",
       "  </tbody>\n",
       "</table>\n",
       "</div>"
      ],
      "text/plain": [
       "           0.000001  0.000010  0.000100  0.001000  0.010000  0.100000\n",
       "R-squared  0.989603   0.98961   0.98965  0.989638  0.980689  0.968001"
      ]
     },
     "execution_count": 31,
     "metadata": {},
     "output_type": "execute_result"
    }
   ],
   "source": [
    "pd.DataFrame(R2.reshape((1,len(R2))), columns = alphas, index=['R-squared'])"
   ]
  },
  {
   "cell_type": "code",
   "execution_count": 18,
   "metadata": {
    "collapsed": false
   },
   "outputs": [
    {
     "data": {
      "text/plain": [
       "0.9896380441977396"
      ]
     },
     "execution_count": 18,
     "metadata": {},
     "output_type": "execute_result"
    }
   ],
   "source": [
    "lasso = Lasso(alpha=0.001) #best from CV\n",
    "evaluateModel_LOOCV(lasso, X, y, n_lags=3)[0]"
   ]
  },
  {
   "cell_type": "markdown",
   "metadata": {},
   "source": [
    "We can look at the coefficients from the Lasso model and drop the features that have coefficients of zero."
   ]
  },
  {
   "cell_type": "code",
   "execution_count": 19,
   "metadata": {
    "collapsed": false
   },
   "outputs": [
    {
     "data": {
      "text/html": [
       "<div>\n",
       "<table border=\"1\" class=\"dataframe\">\n",
       "  <thead>\n",
       "    <tr style=\"text-align: right;\">\n",
       "      <th></th>\n",
       "      <th>CCI_lag_1</th>\n",
       "      <th>Topic_1_lag_1</th>\n",
       "      <th>Topic_2_lag_1</th>\n",
       "      <th>Topic_3_lag_1</th>\n",
       "      <th>Topic_4_lag_1</th>\n",
       "      <th>Topic_5_lag_1</th>\n",
       "      <th>Topic_6_lag_1</th>\n",
       "      <th>Topic_7_lag_1</th>\n",
       "      <th>Topic_8_lag_1</th>\n",
       "      <th>full_avg_lag_1</th>\n",
       "      <th>CCI_lag_2</th>\n",
       "      <th>Topic_1_lag_2</th>\n",
       "      <th>Topic_2_lag_2</th>\n",
       "      <th>Topic_3_lag_2</th>\n",
       "      <th>Topic_4_lag_2</th>\n",
       "      <th>Topic_5_lag_2</th>\n",
       "      <th>Topic_6_lag_2</th>\n",
       "      <th>Topic_7_lag_2</th>\n",
       "      <th>Topic_8_lag_2</th>\n",
       "      <th>full_avg_lag_2</th>\n",
       "    </tr>\n",
       "  </thead>\n",
       "  <tbody>\n",
       "    <tr>\n",
       "      <th>0</th>\n",
       "      <td>2.448962</td>\n",
       "      <td>-0.045274</td>\n",
       "      <td>-0.0</td>\n",
       "      <td>-0.01279</td>\n",
       "      <td>-0.0</td>\n",
       "      <td>-0.003307</td>\n",
       "      <td>-0.0</td>\n",
       "      <td>-0.025455</td>\n",
       "      <td>0.100428</td>\n",
       "      <td>-0.0</td>\n",
       "      <td>-1.028818</td>\n",
       "      <td>-0.0</td>\n",
       "      <td>0.0</td>\n",
       "      <td>-0.0</td>\n",
       "      <td>-0.0</td>\n",
       "      <td>0.042149</td>\n",
       "      <td>0.0</td>\n",
       "      <td>-0.0</td>\n",
       "      <td>0.028887</td>\n",
       "      <td>-0.016995</td>\n",
       "    </tr>\n",
       "  </tbody>\n",
       "</table>\n",
       "</div>"
      ],
      "text/plain": [
       "   CCI_lag_1  Topic_1_lag_1  Topic_2_lag_1  Topic_3_lag_1  Topic_4_lag_1  \\\n",
       "0   2.448962      -0.045274           -0.0       -0.01279           -0.0   \n",
       "\n",
       "   Topic_5_lag_1  Topic_6_lag_1  Topic_7_lag_1  Topic_8_lag_1  full_avg_lag_1  \\\n",
       "0      -0.003307           -0.0      -0.025455       0.100428            -0.0   \n",
       "\n",
       "   CCI_lag_2  Topic_1_lag_2  Topic_2_lag_2  Topic_3_lag_2  Topic_4_lag_2  \\\n",
       "0  -1.028818           -0.0            0.0           -0.0           -0.0   \n",
       "\n",
       "   Topic_5_lag_2  Topic_6_lag_2  Topic_7_lag_2  Topic_8_lag_2  full_avg_lag_2  \n",
       "0       0.042149            0.0           -0.0       0.028887       -0.016995  "
      ]
     },
     "execution_count": 19,
     "metadata": {},
     "output_type": "execute_result"
    }
   ],
   "source": [
    "pd.DataFrame(lasso.coef_.reshape((1,len(lasso.coef_))), columns = X.columns)"
   ]
  },
  {
   "cell_type": "code",
   "execution_count": 20,
   "metadata": {
    "collapsed": true
   },
   "outputs": [],
   "source": [
    "X_subset = X.drop(X.columns[np.where(lasso.coef_==0)], axis=1)"
   ]
  },
  {
   "cell_type": "markdown",
   "metadata": {},
   "source": [
    "### Trying various models"
   ]
  },
  {
   "cell_type": "markdown",
   "metadata": {},
   "source": [
    "With the features selected via Lasso, we tried linear regression, SVM, random forest, and gradient boosting. Linear regression and a tuned SVM were both very successful."
   ]
  },
  {
   "cell_type": "code",
   "execution_count": 21,
   "metadata": {
    "collapsed": false
   },
   "outputs": [],
   "source": [
    "lr = LinearRegression()\n",
    "R2_LR, MSE_LR, pred_LR = evaluateModel_LOOCV(lr, X_subset, y, n_lags=3)"
   ]
  },
  {
   "cell_type": "code",
   "execution_count": 27,
   "metadata": {
    "collapsed": false
   },
   "outputs": [
    {
     "name": "stdout",
     "output_type": "stream",
     "text": [
      "All Predictor Forecasting MSE = 0.021\n"
     ]
    }
   ],
   "source": [
    "print 'All Predictor Forecasting MSE = {:.3f}'.format(MSE_LR)"
   ]
  },
  {
   "cell_type": "code",
   "execution_count": 23,
   "metadata": {
    "collapsed": true
   },
   "outputs": [],
   "source": [
    "lr = LinearRegression()\n",
    "R2_CCI, MSE_CCI, predCCI = evaluateModel_LOOCV(lr, X_justCCI, y, n_lags=3)"
   ]
  },
  {
   "cell_type": "code",
   "execution_count": 28,
   "metadata": {
    "collapsed": false
   },
   "outputs": [
    {
     "name": "stdout",
     "output_type": "stream",
     "text": [
      "Just CCI Forecasting MSE = 0.023\n"
     ]
    }
   ],
   "source": [
    "print 'Just CCI Forecasting MSE = {:.3f}'.format(MSE_CCI)"
   ]
  },
  {
   "cell_type": "markdown",
   "metadata": {},
   "source": [
    "## SVM"
   ]
  },
  {
   "cell_type": "code",
   "execution_count": 32,
   "metadata": {
    "collapsed": false
   },
   "outputs": [],
   "source": [
    "gammas = [.00001,.0001]\n",
    "R2 = np.zeros(len(gammas))\n",
    "for i, gamma in enumerate(gammas):\n",
    "    model = SVR(C = 100000, kernel = 'rbf', gamma=gamma)\n",
    "    R2[i] = evaluateModel_LOOCV(model, X_subset, y, n_lags=3)[0]   "
   ]
  },
  {
   "cell_type": "code",
   "execution_count": 33,
   "metadata": {
    "collapsed": false
   },
   "outputs": [
    {
     "data": {
      "text/html": [
       "<div>\n",
       "<table border=\"1\" class=\"dataframe\">\n",
       "  <thead>\n",
       "    <tr style=\"text-align: right;\">\n",
       "      <th></th>\n",
       "      <th>1e-05</th>\n",
       "      <th>0.0001</th>\n",
       "    </tr>\n",
       "  </thead>\n",
       "  <tbody>\n",
       "    <tr>\n",
       "      <th>R-squared</th>\n",
       "      <td>0.989933</td>\n",
       "      <td>0.988687</td>\n",
       "    </tr>\n",
       "  </tbody>\n",
       "</table>\n",
       "</div>"
      ],
      "text/plain": [
       "            0.00001   0.00010\n",
       "R-squared  0.989933  0.988687"
      ]
     },
     "execution_count": 33,
     "metadata": {},
     "output_type": "execute_result"
    }
   ],
   "source": [
    "pd.DataFrame(R2.reshape((1,len(R2))), columns = gammas, index=['R-squared'])"
   ]
  },
  {
   "cell_type": "code",
   "execution_count": 35,
   "metadata": {
    "collapsed": false
   },
   "outputs": [],
   "source": [
    "model = SVR(C = 100000, kernel = 'rbf', gamma=0.00001)\n",
    "R2_SVR, MSE_SVR, pred_SVR = evaluateModel_LOOCV(model, X_subset, y, n_lags=3)  "
   ]
  },
  {
   "cell_type": "code",
   "execution_count": 36,
   "metadata": {
    "collapsed": false
   },
   "outputs": [
    {
     "name": "stdout",
     "output_type": "stream",
     "text": [
      "All Predictor SVR Forecasting MSE = 0.021\n"
     ]
    }
   ],
   "source": [
    "print 'All Predictor SVR Forecasting MSE = {:.3f}'.format(MSE_SVR)"
   ]
  },
  {
   "cell_type": "markdown",
   "metadata": {},
   "source": [
    "## Ensemble learner"
   ]
  },
  {
   "cell_type": "markdown",
   "metadata": {},
   "source": [
    "It turns out that a combination of linear regression and support vector regression is better than either one on its own. They are combined by feeding their outputs into another SVR model. In essence, this trains another model that weights the LR and SVR model based on where they perform best in the feature space."
   ]
  },
  {
   "cell_type": "code",
   "execution_count": 37,
   "metadata": {
    "collapsed": true
   },
   "outputs": [],
   "source": [
    "def evaluateModel_LOOCV_ensemble(models, X, y, n_lags=14):\n",
    "    n = len(y)\n",
    "    RSS = 0\n",
    "    TSS = np.sum(np.square(y-np.mean(y)))\n",
    "    pred = np.zeros(n)\n",
    "    for i in range(n):\n",
    "        \n",
    "        \n",
    "        X_test = X.iloc[i]\n",
    "        y_test = y.iloc[i]\n",
    "\n",
    "        train_indexes = list(range(i-n_lags))\n",
    "        train_indexes.extend(range(i+n_lags,n))\n",
    "        \n",
    "        X_train = X.iloc[train_indexes]\n",
    "        y_train = y.iloc[train_indexes]\n",
    "        scaler = StandardScaler()\n",
    "        \n",
    "        X_train_scaled = scaler.fit_transform(X_train)\n",
    "        X_test_scaled = scaler.transform(X_test)\n",
    "        \n",
    "        X_train_with_model_output = X_train_scaled\n",
    "        X_test_with_model_output = X_test_scaled\n",
    "        \n",
    "        for model in models:\n",
    "            model.fit(X_train_scaled, y_train)\n",
    "            X_train_with_model_output = np.concatenate((X_train_with_model_output,model.predict(X_train_scaled).reshape((len(y_train),1))),axis=1)\n",
    "            X_test_with_model_output = np.hstack((X_test_with_model_output,model.predict(X_test_scaled)))\n",
    "            \n",
    "        \n",
    "        svr = SVR(C = 100000, kernel = 'rbf', gamma=.00001)\n",
    "        svr.fit(X_train_with_model_output, y_train)\n",
    "        pred[i] = svr.predict(X_test_with_model_output)\n",
    "        RSS += np.square(pred[i]-y_test)\n",
    "    R2 = (1-RSS/TSS)\n",
    "    MSE = RSS/n\n",
    "    return(R2, MSE, pred)"
   ]
  },
  {
   "cell_type": "code",
   "execution_count": 38,
   "metadata": {
    "collapsed": false
   },
   "outputs": [],
   "source": [
    "models = [LinearRegression(), SVR(C = 100000, kernel = 'rbf', gamma=0.00001)]\n",
    "R2_ens, MSE_ens, pred_ens = evaluateModel_LOOCV_ensemble(models, X_subset, y, n_lags=3)"
   ]
  },
  {
   "cell_type": "code",
   "execution_count": 40,
   "metadata": {
    "collapsed": false
   },
   "outputs": [
    {
     "name": "stdout",
     "output_type": "stream",
     "text": [
      "All Predictor Ensemble Forecasting MSE = 0.0210\n"
     ]
    }
   ],
   "source": [
    "print 'All Predictor Ensemble Forecasting MSE = {:.4f}'.format(MSE_ens)"
   ]
  },
  {
   "cell_type": "markdown",
   "metadata": {},
   "source": [
    "## Results"
   ]
  },
  {
   "cell_type": "markdown",
   "metadata": {},
   "source": [
    "The ensemble of linear regression and SVM achieved $R^2_{CV}=0.990$ and $RMSE_{CV}=0.145$. This is only slightly better than just using CCI, which gets $RMSE_{CV}=0.151$"
   ]
  },
  {
   "cell_type": "code",
   "execution_count": 467,
   "metadata": {
    "collapsed": false
   },
   "outputs": [
    {
     "data": {
      "image/png": "[encoded data removed]",
      "text/plain": [
       "<matplotlib.figure.Figure at 0x1170b6ad0>"
      ]
     },
     "metadata": {},
     "output_type": "display_data"
    }
   ],
   "source": [
    "matplotlib.rcParams.update({'font.size': 18})\n",
    "fig = plt.figure(figsize=(16,6))\n",
    "ax = fig.add_subplot(111)\n",
    "ax.plot(range(len(y)),y.values, label='CCI')\n",
    "ax.plot(pred, label='Prediction with news')\n",
    "ax.plot(predCCI, label='Prediction just CCI', linestyle='dotted')\n",
    "ax.set_title('Consumer Confidence Index')\n",
    "ax.set_ylabel('CCI')\n",
    "ax.set_xlim((0,len(y)))\n",
    "ax.set_xlabel('Time')\n",
    "ax.set_xticklabels(list(np.arange(1960,2017,9)));\n",
    "ax.legend(loc='best',prop={'size':12})\n",
    "plt.savefig('CCIwithPrediction.png', bbox_inches='tight')"
   ]
  },
  {
   "cell_type": "markdown",
   "metadata": {},
   "source": [
    "Using the news data helps forecast the sharp changes in CCI a little better than just using previous CCI values. However, the difference is slight."
   ]
  },
  {
   "cell_type": "code",
   "execution_count": null,
   "metadata": {
    "collapsed": true
   },
   "outputs": [],
   "source": []
  }
 ],
 "metadata": {
  "kernelspec": {
   "display_name": "Python [conda env:AC209]",
   "language": "python",
   "name": "conda-env-AC209-py"
  },
  "language_info": {
   "codemirror_mode": {
    "name": "ipython",
    "version": 2
   },
   "file_extension": ".py",
   "mimetype": "text/x-python",
   "name": "python",
   "nbconvert_exporter": "python",
   "pygments_lexer": "ipython2",
   "version": "2.7.12"
  }
 },
 "nbformat": 4,
 "nbformat_minor": 0
}
