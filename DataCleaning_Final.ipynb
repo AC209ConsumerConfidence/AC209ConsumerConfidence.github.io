{
 "cells": [
  {
   "cell_type": "code",
   "execution_count": 1,
   "metadata": {
    "collapsed": false
   },
   "outputs": [
    {
     "name": "stderr",
     "output_type": "stream",
     "text": [
      "/Users/kshain/anaconda/envs/AC209/lib/python2.7/site-packages/matplotlib/font_manager.py:273: UserWarning: Matplotlib is building the font cache using fc-list. This may take a moment.\n",
      "  warnings.warn('Matplotlib is building the font cache using fc-list. This may take a moment.')\n"
     ]
    }
   ],
   "source": [
    "import numpy as np\n",
    "import matplotlib\n",
    "import matplotlib.pyplot as plt\n",
    "import pandas as pd\n",
    "%matplotlib inline\n",
    "import datetime\n",
    "import csv\n",
    "import math\n",
    "import time\n",
    "from ProgressBar import ProgressBar\n",
    "import cPickle\n",
    "import scipy\n",
    "\n",
    "\n",
    "import nltk\n",
    "import string\n",
    "from collections import defaultdict\n",
    "from sklearn.feature_extraction.text import CountVectorizer\n",
    "from sklearn.feature_extraction.text import TfidfVectorizer"
   ]
  },
  {
   "cell_type": "markdown",
   "metadata": {},
   "source": [
    "<hr width=80%>\n",
    "# <center> Data Cleaning & Bigrams</center>\n",
    "<hr width=80%>"
   ]
  },
  {
   "cell_type": "markdown",
   "metadata": {},
   "source": [
    "* ### [Data Cleaning](#Data-Cleaning)\n",
    "    * [Loading the data](#Loading-the-data)\n",
    "    * [Removing missing data](#Removing-missing-data)\n",
    "    * [Adding 'yearmonth'](#Article-Search-API)\n",
    "    * [Stemming](#Stemming)\n",
    "* ### [Extracting Unigrams and Bigrams](#Extracting-Unigrams-and-Bigrams)\n",
    "    * [Getting the count of all bigrams](#Getting-the-count-of-all-bigrams)\n",
    "    * [Calculating Dunning Log-Likelihood Ratio](#Calculating-Dunning-Log-Likelihood-Ratio)\n",
    "    * [Using the Bigram Vocabulary](#Using-the-Bigram-Vocabulary)\n",
    "    * [Count Vectorizing](#Count-Vectorizing)\n",
    "* ### [Monthly Aggregates](#Monthly-Aggregates)"
   ]
  },
  {
   "cell_type": "markdown",
   "metadata": {},
   "source": [
    "## Data Cleaning"
   ]
  },
  {
   "cell_type": "markdown",
   "metadata": {},
   "source": [
    "### Loading the data"
   ]
  },
  {
   "cell_type": "markdown",
   "metadata": {},
   "source": [
    "We will load all of our data files from the API calls and put them into a single dataframe. This covers 1990 through 2016."
   ]
  },
  {
   "cell_type": "code",
   "execution_count": 2,
   "metadata": {
    "collapsed": false
   },
   "outputs": [
    {
     "data": {
      "text/html": [
       "<div>\n",
       "<table border=\"1\" class=\"dataframe\">\n",
       "  <thead>\n",
       "    <tr style=\"text-align: right;\">\n",
       "      <th></th>\n",
       "      <th>id</th>\n",
       "      <th>date</th>\n",
       "      <th>headline</th>\n",
       "      <th>lead</th>\n",
       "    </tr>\n",
       "  </thead>\n",
       "  <tbody>\n",
       "    <tr>\n",
       "      <th>0</th>\n",
       "      <td>4fd1aa888eb7c8105d6c860e</td>\n",
       "      <td>1990-01-03T00:00:00Z</td>\n",
       "      <td>Tandem Expected To Show Computer</td>\n",
       "      <td>LEAD: Tandem Computers Inc. is expected to int...</td>\n",
       "    </tr>\n",
       "    <tr>\n",
       "      <th>1</th>\n",
       "      <td>52b85b7738f0d8094087c782</td>\n",
       "      <td>1990-01-03T00:00:00Z</td>\n",
       "      <td>Chrysler Shows Van Concept</td>\n",
       "      <td>LEAD: The Chrysler Corporation today introduce...</td>\n",
       "    </tr>\n",
       "    <tr>\n",
       "      <th>2</th>\n",
       "      <td>52b85b7638f0d8094087c780</td>\n",
       "      <td>1990-01-02T00:00:00Z</td>\n",
       "      <td>Loan Pact Seen For Hungary</td>\n",
       "      <td>LEAD: Hungary expects to complete a deal with ...</td>\n",
       "    </tr>\n",
       "    <tr>\n",
       "      <th>3</th>\n",
       "      <td>52b85b7538f0d8094087c77f</td>\n",
       "      <td>1990-01-02T00:00:00Z</td>\n",
       "      <td>Counterattack Planned By Lawyers for Lincoln</td>\n",
       "      <td>LEAD: Lawyers for Charles H. Keating Jr., who ...</td>\n",
       "    </tr>\n",
       "    <tr>\n",
       "      <th>4</th>\n",
       "      <td>4fd18d4c8eb7c8105d691815</td>\n",
       "      <td>1990-01-08T00:00:00Z</td>\n",
       "      <td>Intermetrics Inc reports earnings for Qtr to N...</td>\n",
       "      <td>LEAD: *3*** COMPANY REPORTS ** *3* Intermetric...</td>\n",
       "    </tr>\n",
       "  </tbody>\n",
       "</table>\n",
       "</div>"
      ],
      "text/plain": [
       "                         id                  date  \\\n",
       "0  4fd1aa888eb7c8105d6c860e  1990-01-03T00:00:00Z   \n",
       "1  52b85b7738f0d8094087c782  1990-01-03T00:00:00Z   \n",
       "2  52b85b7638f0d8094087c780  1990-01-02T00:00:00Z   \n",
       "3  52b85b7538f0d8094087c77f  1990-01-02T00:00:00Z   \n",
       "4  4fd18d4c8eb7c8105d691815  1990-01-08T00:00:00Z   \n",
       "\n",
       "                                            headline  \\\n",
       "0                   Tandem Expected To Show Computer   \n",
       "1                         Chrysler Shows Van Concept   \n",
       "2                         Loan Pact Seen For Hungary   \n",
       "3       Counterattack Planned By Lawyers for Lincoln   \n",
       "4  Intermetrics Inc reports earnings for Qtr to N...   \n",
       "\n",
       "                                                lead  \n",
       "0  LEAD: Tandem Computers Inc. is expected to int...  \n",
       "1  LEAD: The Chrysler Corporation today introduce...  \n",
       "2  LEAD: Hungary expects to complete a deal with ...  \n",
       "3  LEAD: Lawyers for Charles H. Keating Jr., who ...  \n",
       "4  LEAD: *3*** COMPANY REPORTS ** *3* Intermetric...  "
      ]
     },
     "execution_count": 2,
     "metadata": {},
     "output_type": "execute_result"
    }
   ],
   "source": [
    "all_data_list = []\n",
    "for year in range(1990,2017):\n",
    "    data = pd.read_csv('{}_Output.csv'.format(year), header=None)\n",
    "    all_data_list.append(data) # list of dataframes\n",
    "data = pd.concat(all_data_list, axis=0)\n",
    "data.columns = ['id','date','headline', 'lead']\n",
    "data.head()"
   ]
  },
  {
   "cell_type": "markdown",
   "metadata": {},
   "source": [
    "### Removing missing data"
   ]
  },
  {
   "cell_type": "markdown",
   "metadata": {},
   "source": [
    "By inspection, we see that the data is remarkably clean. There are almost no changes that need to be made, except for removing a few articles that do not have lead paragraphs. This is only ~500 articles out of ~500,000."
   ]
  },
  {
   "cell_type": "code",
   "execution_count": 3,
   "metadata": {
    "collapsed": false
   },
   "outputs": [
    {
     "data": {
      "text/plain": [
       "(578151, 4)"
      ]
     },
     "execution_count": 3,
     "metadata": {},
     "output_type": "execute_result"
    }
   ],
   "source": [
    "data.shape"
   ]
  },
  {
   "cell_type": "code",
   "execution_count": 4,
   "metadata": {
    "collapsed": true
   },
   "outputs": [],
   "source": [
    "data.dropna(inplace=True)"
   ]
  },
  {
   "cell_type": "code",
   "execution_count": 5,
   "metadata": {
    "collapsed": false
   },
   "outputs": [
    {
     "data": {
      "text/plain": [
       "(577624, 4)"
      ]
     },
     "execution_count": 5,
     "metadata": {},
     "output_type": "execute_result"
    }
   ],
   "source": [
    "data.shape"
   ]
  },
  {
   "cell_type": "markdown",
   "metadata": {},
   "source": [
    "### Adding 'yearmonth'"
   ]
  },
  {
   "cell_type": "markdown",
   "metadata": {},
   "source": [
    "We add a column that uniquely identifies just the month and year of each article. This is useful because we will be aggregating by month several times later on."
   ]
  },
  {
   "cell_type": "code",
   "execution_count": 6,
   "metadata": {
    "collapsed": true
   },
   "outputs": [],
   "source": [
    "data['yearmonth'] = map(lambda x: x[:7], data.date)"
   ]
  },
  {
   "cell_type": "markdown",
   "metadata": {},
   "source": [
    "### Stemming"
   ]
  },
  {
   "cell_type": "markdown",
   "metadata": {},
   "source": [
    "The lead paragraphs are then tokenized and stemmed. Tokenizing just makes an ordered list of words from each lead paragraph and removes punctuation. The stemming removes suffixes like the plural “s” or past “ed” which we hypothesize not to have semantic importance. Lastly, we add the stemmed lead paragraphs to the dataframe."
   ]
  },
  {
   "cell_type": "code",
   "execution_count": 7,
   "metadata": {
    "collapsed": true
   },
   "outputs": [],
   "source": [
    "def getStems(lead):\n",
    "    stemmer = nltk.stem.SnowballStemmer(\"english\")\n",
    "    tokens = nltk.word_tokenize(''.join(ch for ch in lead if ch not in set(string.punctuation)))\n",
    "    return map(lambda x: stemmer.stem(x.decode('utf-8')), tokens)"
   ]
  },
  {
   "cell_type": "code",
   "execution_count": 8,
   "metadata": {
    "collapsed": true
   },
   "outputs": [],
   "source": [
    "def joinstems(stemlist):\n",
    "    return ' '.join(stem for stem in stemlist)"
   ]
  },
  {
   "cell_type": "code",
   "execution_count": 9,
   "metadata": {
    "collapsed": false
   },
   "outputs": [],
   "source": [
    "stems = map(getStems, data.lead)"
   ]
  },
  {
   "cell_type": "code",
   "execution_count": 10,
   "metadata": {
    "collapsed": true
   },
   "outputs": [],
   "source": [
    "data['leadstems'] = map(joinstems, stems)"
   ]
  },
  {
   "cell_type": "code",
   "execution_count": 11,
   "metadata": {
    "collapsed": false
   },
   "outputs": [
    {
     "data": {
      "text/html": [
       "<div>\n",
       "<table border=\"1\" class=\"dataframe\">\n",
       "  <thead>\n",
       "    <tr style=\"text-align: right;\">\n",
       "      <th></th>\n",
       "      <th>id</th>\n",
       "      <th>date</th>\n",
       "      <th>headline</th>\n",
       "      <th>lead</th>\n",
       "      <th>yearmonth</th>\n",
       "      <th>leadstems</th>\n",
       "    </tr>\n",
       "  </thead>\n",
       "  <tbody>\n",
       "    <tr>\n",
       "      <th>0</th>\n",
       "      <td>4fd1aa888eb7c8105d6c860e</td>\n",
       "      <td>1990-01-03T00:00:00Z</td>\n",
       "      <td>Tandem Expected To Show Computer</td>\n",
       "      <td>LEAD: Tandem Computers Inc. is expected to int...</td>\n",
       "      <td>1990-01</td>\n",
       "      <td>lead tandem comput inc is expect to introduc n...</td>\n",
       "    </tr>\n",
       "    <tr>\n",
       "      <th>1</th>\n",
       "      <td>52b85b7738f0d8094087c782</td>\n",
       "      <td>1990-01-03T00:00:00Z</td>\n",
       "      <td>Chrysler Shows Van Concept</td>\n",
       "      <td>LEAD: The Chrysler Corporation today introduce...</td>\n",
       "      <td>1990-01</td>\n",
       "      <td>lead the chrysler corpor today introduc a futu...</td>\n",
       "    </tr>\n",
       "    <tr>\n",
       "      <th>2</th>\n",
       "      <td>52b85b7638f0d8094087c780</td>\n",
       "      <td>1990-01-02T00:00:00Z</td>\n",
       "      <td>Loan Pact Seen For Hungary</td>\n",
       "      <td>LEAD: Hungary expects to complete a deal with ...</td>\n",
       "      <td>1990-01</td>\n",
       "      <td>lead hungari expect to complet a deal with the...</td>\n",
       "    </tr>\n",
       "    <tr>\n",
       "      <th>3</th>\n",
       "      <td>52b85b7538f0d8094087c77f</td>\n",
       "      <td>1990-01-02T00:00:00Z</td>\n",
       "      <td>Counterattack Planned By Lawyers for Lincoln</td>\n",
       "      <td>LEAD: Lawyers for Charles H. Keating Jr., who ...</td>\n",
       "      <td>1990-01</td>\n",
       "      <td>lead lawyer for charl h keat jr who head the b...</td>\n",
       "    </tr>\n",
       "    <tr>\n",
       "      <th>4</th>\n",
       "      <td>4fd18d4c8eb7c8105d691815</td>\n",
       "      <td>1990-01-08T00:00:00Z</td>\n",
       "      <td>Intermetrics Inc reports earnings for Qtr to N...</td>\n",
       "      <td>LEAD: *3*** COMPANY REPORTS ** *3* Intermetric...</td>\n",
       "      <td>1990-01</td>\n",
       "      <td>lead 3 compani report 3 intermetr inc otc qtr ...</td>\n",
       "    </tr>\n",
       "  </tbody>\n",
       "</table>\n",
       "</div>"
      ],
      "text/plain": [
       "                         id                  date  \\\n",
       "0  4fd1aa888eb7c8105d6c860e  1990-01-03T00:00:00Z   \n",
       "1  52b85b7738f0d8094087c782  1990-01-03T00:00:00Z   \n",
       "2  52b85b7638f0d8094087c780  1990-01-02T00:00:00Z   \n",
       "3  52b85b7538f0d8094087c77f  1990-01-02T00:00:00Z   \n",
       "4  4fd18d4c8eb7c8105d691815  1990-01-08T00:00:00Z   \n",
       "\n",
       "                                            headline  \\\n",
       "0                   Tandem Expected To Show Computer   \n",
       "1                         Chrysler Shows Van Concept   \n",
       "2                         Loan Pact Seen For Hungary   \n",
       "3       Counterattack Planned By Lawyers for Lincoln   \n",
       "4  Intermetrics Inc reports earnings for Qtr to N...   \n",
       "\n",
       "                                                lead yearmonth  \\\n",
       "0  LEAD: Tandem Computers Inc. is expected to int...   1990-01   \n",
       "1  LEAD: The Chrysler Corporation today introduce...   1990-01   \n",
       "2  LEAD: Hungary expects to complete a deal with ...   1990-01   \n",
       "3  LEAD: Lawyers for Charles H. Keating Jr., who ...   1990-01   \n",
       "4  LEAD: *3*** COMPANY REPORTS ** *3* Intermetric...   1990-01   \n",
       "\n",
       "                                           leadstems  \n",
       "0  lead tandem comput inc is expect to introduc n...  \n",
       "1  lead the chrysler corpor today introduc a futu...  \n",
       "2  lead hungari expect to complet a deal with the...  \n",
       "3  lead lawyer for charl h keat jr who head the b...  \n",
       "4  lead 3 compani report 3 intermetr inc otc qtr ...  "
      ]
     },
     "execution_count": 11,
     "metadata": {},
     "output_type": "execute_result"
    }
   ],
   "source": [
    "data.head()"
   ]
  },
  {
   "cell_type": "markdown",
   "metadata": {},
   "source": [
    "## Extracting Unigrams and Bigrams"
   ]
  },
  {
   "cell_type": "markdown",
   "metadata": {},
   "source": [
    "Unigrams are single words without context. Using CountVectorizer it is straightforward to extract the unigrams that occur in at least 0.5% of articles and less than 80% of articles.\n",
    "\n",
    "Beyond unigrams, we also speculate that co-occurrence of words is relevant in business articles. For example, “unemployment fell” includes two words that independently are negative, but together are positive. Therefore, we also want to extract bigrams, pairs of words that appear consecutively. However, there are many more bigrams than unigrams as unigrams are limited to the size of the dictionary and bigrams are limited to that number squared. To reduce the dimension, we only use bigrams where the two words are much more likely to occur together than separately based on the [Dunning Log-Likelihood Ratio](#http://citeseerx.ist.psu.edu/viewdoc/download;jsessionid=6EB3C415737C0A93B117F08A4BEC9B72?doi=10.1.1.14.5962&rep=rep1&type=pdf)(DLLR). \n",
    "\n",
    "The essence of the DLLR statistic is that it measures how much more likely two words occur consecutively than would be expected by chance. As expected, this statistic takes as inputs the number of times the constituent words occur together and separately."
   ]
  },
  {
   "cell_type": "markdown",
   "metadata": {},
   "source": [
    "### Getting the count of all bigrams"
   ]
  },
  {
   "cell_type": "markdown",
   "metadata": {},
   "source": [
    "The first step is to extract all of the bigram stems from the entire dataset using the appropriate function from `nltk`. Then, we put all bigrams regardless of article into a list and count the number of times that each unique bigram occurs."
   ]
  },
  {
   "cell_type": "code",
   "execution_count": 12,
   "metadata": {
    "collapsed": true
   },
   "outputs": [],
   "source": [
    "def getBigrams(stems):\n",
    "    stems = stems.split()\n",
    "    finder = nltk.collocations.BigramCollocationFinder.from_words(stems)\n",
    "    return(finder.ngram_fd.items())"
   ]
  },
  {
   "cell_type": "code",
   "execution_count": 15,
   "metadata": {
    "collapsed": false
   },
   "outputs": [],
   "source": [
    "bigramList = map(getBigrams, data.leadstems)"
   ]
  },
  {
   "cell_type": "code",
   "execution_count": 16,
   "metadata": {
    "collapsed": true
   },
   "outputs": [],
   "source": [
    "flatBigrams = [item for sublist in bigramList for item in sublist]"
   ]
  },
  {
   "cell_type": "code",
   "execution_count": 17,
   "metadata": {
    "collapsed": true
   },
   "outputs": [],
   "source": [
    "def reduceByKey(toIterate): # For us, the bigram is the key\n",
    "    d = defaultdict(int)\n",
    "    for i, (key, value) in enumerate(toIterate):\n",
    "        d[key] += value\n",
    "    return list(d.items())"
   ]
  },
  {
   "cell_type": "code",
   "execution_count": 18,
   "metadata": {
    "collapsed": false
   },
   "outputs": [],
   "source": [
    "summedBigrams = reduceByKey(flatBigrams)"
   ]
  },
  {
   "cell_type": "markdown",
   "metadata": {},
   "source": [
    "It's useful to be able to save and load this result since it takes a few minutes to run."
   ]
  },
  {
   "cell_type": "code",
   "execution_count": 212,
   "metadata": {
    "collapsed": false
   },
   "outputs": [],
   "source": [
    "with open(\"summedBigrams.pkl\", \"wb\") as output_file:\n",
    "    pickle.dump(summedBigrams, output_file)"
   ]
  },
  {
   "cell_type": "code",
   "execution_count": 213,
   "metadata": {
    "collapsed": true
   },
   "outputs": [],
   "source": [
    "with open(\"summedBigrams.pkl\", \"rb\") as input_file:\n",
    "    summedBigrams2 = pickle.load(input_file)"
   ]
  },
  {
   "cell_type": "markdown",
   "metadata": {},
   "source": [
    "### Calculating Dunning Log-Likelihood Ratio"
   ]
  },
  {
   "cell_type": "markdown",
   "metadata": {},
   "source": [
    "It is not important to go into the details of the calculations, but we use a few nested functions to keep all of the logs from getting messy. In the literature, the notation used is,\n",
    "$$k_{11}=N(A,B)$$\n",
    "$$k_{12}=N(A,not B)$$\n",
    "$$k_{21}=N(not A,B)$$\n",
    "$$k_{22}=N(not A,not B)$$\n",
    "Where $N(A,B)$ is the number of times the bigram \"A B\" occurs."
   ]
  },
  {
   "cell_type": "code",
   "execution_count": 14,
   "metadata": {
    "collapsed": true
   },
   "outputs": [],
   "source": [
    "def xLogX(x):\n",
    "    if x==0:\n",
    "        return 0\n",
    "    else:\n",
    "        return x * np.log(x)\n",
    "    \n",
    "def entropy(things):\n",
    "    theSum = 0\n",
    "    theResult = 0\n",
    "    for thing in things:\n",
    "        theResult += xLogX(thing)\n",
    "        theSum += thing;\n",
    "\n",
    "    return xLogX(theSum) - theResult;\n",
    "\n",
    "def logLikelihoodRatio(k11, k12, k21, k22):\n",
    "    rowEntropy = entropy([k11 + k12, k21 + k22]);\n",
    "    columnEntropy = entropy([k11 + k21, k12 + k22]);\n",
    "    matrixEntropy = entropy([k11, k12, k21, k22]);\n",
    "    return(2.0 * (rowEntropy + columnEntropy - matrixEntropy))\n",
    "\n",
    "def getLLR(summedBigram):\n",
    "    k11 = summedBigram[1]\n",
    "    stem1 = summedBigram[0][0]\n",
    "    stem2 = summedBigram[0][1]\n",
    "    k12 = bigrams1Dict[stem1] - k11\n",
    "    k21 = bigrams2Dict[stem2] - k11\n",
    "    k22 = totalBigrams - k11 - k12 - k21\n",
    "    return(logLikelihoodRatio(k11, k12, k21, k22))"
   ]
  },
  {
   "cell_type": "markdown",
   "metadata": {},
   "source": [
    "It is also useful to have a dictionary of the number of times each word appears in any general bigram so that we can find the $N(A, not\\,B)$ and like terms"
   ]
  },
  {
   "cell_type": "code",
   "execution_count": 19,
   "metadata": {
    "collapsed": true
   },
   "outputs": [],
   "source": [
    "bigrams1 = map(lambda x: (x[0][0], x[1]), summedBigrams)\n",
    "summedBigrams1= reduceByKey(bigrams1)"
   ]
  },
  {
   "cell_type": "code",
   "execution_count": 20,
   "metadata": {
    "collapsed": true
   },
   "outputs": [],
   "source": [
    "bigrams2 = map(lambda x: (x[0][1], x[1]), summedBigrams)\n",
    "summedBigrams2= reduceByKey(bigrams2)"
   ]
  },
  {
   "cell_type": "code",
   "execution_count": 21,
   "metadata": {
    "collapsed": true
   },
   "outputs": [],
   "source": [
    "bigrams1Dict = dict(summedBigrams1)\n",
    "bigrams2Dict = dict(summedBigrams2)"
   ]
  },
  {
   "cell_type": "code",
   "execution_count": 22,
   "metadata": {
    "collapsed": true
   },
   "outputs": [],
   "source": [
    "onlyValues = np.array(map(lambda x: x[1], summedBigrams))\n",
    "totalBigrams = onlyValues.sum()"
   ]
  },
  {
   "cell_type": "markdown",
   "metadata": {},
   "source": [
    "Finally, we can get the DLLR statistic for each bigram."
   ]
  },
  {
   "cell_type": "code",
   "execution_count": 23,
   "metadata": {
    "collapsed": true
   },
   "outputs": [],
   "source": [
    "LLRs = map(getLLR, summedBigrams)"
   ]
  },
  {
   "cell_type": "code",
   "execution_count": 26,
   "metadata": {
    "collapsed": false
   },
   "outputs": [
    {
     "data": {
      "text/plain": [
       "<matplotlib.text.Text at 0x24a0e44d0>"
      ]
     },
     "execution_count": 26,
     "metadata": {},
     "output_type": "execute_result"
    },
    {
     "data": {
      "image/png": "[encoded data removed]",
      "text/plain": [
       "<matplotlib.figure.Figure at 0x24a08c910>"
      ]
     },
     "metadata": {},
     "output_type": "display_data"
    }
   ],
   "source": [
    "plt.hist(LLRs, bins=200000);\n",
    "plt.xlim((0,100))\n",
    "plt.xlabel('Dunning Log-likelihood Ratio')\n",
    "plt.ylabel('Counts')\n",
    "plt.title('Distribution of Bigram Log-Likelihood Ratios')"
   ]
  },
  {
   "cell_type": "code",
   "execution_count": 28,
   "metadata": {
    "collapsed": false
   },
   "outputs": [
    {
     "name": "stdout",
     "output_type": "stream",
     "text": [
      "Most likely bigram: (u'new', u'york')\n"
     ]
    }
   ],
   "source": [
    "print 'Most likely bigram: {}'.format(np.array(summedBigrams)[np.argmax(np.array(LLRs))][0])"
   ]
  },
  {
   "cell_type": "markdown",
   "metadata": {},
   "source": [
    "Just as a sanity check, it is good to note that \"New York\" is most likely to be a bigram according to our metric. This makes sense as \"New\" and \"York\" are way more likely to occur together than separately, especially in the New York Times."
   ]
  },
  {
   "cell_type": "markdown",
   "metadata": {},
   "source": [
    "Lastly, we have done a lot of computation so we can save the results."
   ]
  },
  {
   "cell_type": "code",
   "execution_count": 29,
   "metadata": {
    "collapsed": true
   },
   "outputs": [],
   "source": [
    "justBigrams = map(lambda x: x[0], summedBigrams)\n",
    "bigramLLR = zip(justBigrams,LLRs)"
   ]
  },
  {
   "cell_type": "code",
   "execution_count": 235,
   "metadata": {
    "collapsed": false
   },
   "outputs": [],
   "source": [
    "with open(\"bigramLLR.pkl\", \"wb\") as output_file:\n",
    "    cPickle.dump(bigramLLR, output_file)"
   ]
  },
  {
   "cell_type": "code",
   "execution_count": 65,
   "metadata": {
    "collapsed": false
   },
   "outputs": [],
   "source": [
    "with open(\"bigramLLR.pkl\", \"rb\") as input_file:\n",
    "    bigramLLR = cPickle.load(input_file)"
   ]
  },
  {
   "cell_type": "markdown",
   "metadata": {},
   "source": [
    "### Using the Bigram Vocabulary"
   ]
  },
  {
   "cell_type": "markdown",
   "metadata": {},
   "source": [
    "Choosing the minimum DLLR threshold for inclusion in our bigram vocabulary is a bit arbitrary, but we can set it such that we have a reasonable number of bigrams in our final vocab. With some testing, 1500 is a good threshold."
   ]
  },
  {
   "cell_type": "code",
   "execution_count": 30,
   "metadata": {
    "collapsed": true
   },
   "outputs": [],
   "source": [
    "bigramVocab = np.array(summedBigrams)[list(np.where(np.array(LLRs)>1500)[0])]"
   ]
  },
  {
   "cell_type": "code",
   "execution_count": 31,
   "metadata": {
    "collapsed": false
   },
   "outputs": [
    {
     "data": {
      "text/plain": [
       "8626"
      ]
     },
     "execution_count": 31,
     "metadata": {},
     "output_type": "execute_result"
    }
   ],
   "source": [
    "len(bigramVocab)"
   ]
  },
  {
   "cell_type": "markdown",
   "metadata": {},
   "source": [
    "Much like with unigrams, it makes sense to eliminate bigrams that contain stopwords as those are not likely to have any meaning in our future analysis."
   ]
  },
  {
   "cell_type": "code",
   "execution_count": 32,
   "metadata": {
    "collapsed": true
   },
   "outputs": [],
   "source": [
    "stopwords = ['or','the','a','an','and','as','at','it','this','that','he','I','she','of','is','was','are','be','did','do','has','had','have','with','for','from', 'to', 'on', 'in', 'monday', 'tuesday', 'wednesday', 'thursday', 'friday', 'saturday', 'sunday', 'yesterday', 'tomorrow','year']"
   ]
  },
  {
   "cell_type": "code",
   "execution_count": 33,
   "metadata": {
    "collapsed": false
   },
   "outputs": [],
   "source": [
    "bigramVocab = [bigram for bigram in bigramVocab if (set(bigram[0]).isdisjoint(stopwords))]"
   ]
  },
  {
   "cell_type": "markdown",
   "metadata": {
    "collapsed": false
   },
   "source": [
    "Lastly, we will stitch together just the stems from the bigram vocabulary list so that they are exactly how they will appear in the stemmed lead paragraphs."
   ]
  },
  {
   "cell_type": "code",
   "execution_count": 34,
   "metadata": {
    "collapsed": true
   },
   "outputs": [],
   "source": [
    "bigramVocab = map(lambda x: x[0][0]+' '+x[0][1], list(bigramVocab))"
   ]
  },
  {
   "cell_type": "markdown",
   "metadata": {},
   "source": [
    "### Count Vectorizing"
   ]
  },
  {
   "cell_type": "markdown",
   "metadata": {},
   "source": [
    "We seek to extract the number of times each unigram and bigram of interest appears in each article. We already have a bigram vocabulary, but we need to create a unigram vocabulary by doing a first pass with the count vectorizer only looking for unigrams."
   ]
  },
  {
   "cell_type": "code",
   "execution_count": 35,
   "metadata": {
    "collapsed": false
   },
   "outputs": [],
   "source": [
    "countVec = CountVectorizer(stop_words='english', max_df=0.8, min_df=.005, strip_accents='unicode')\n",
    "wordMatrix = countVec.fit_transform(data.leadstems)\n",
    "unigramVocab = countVec.get_feature_names()"
   ]
  },
  {
   "cell_type": "code",
   "execution_count": 36,
   "metadata": {
    "collapsed": true
   },
   "outputs": [],
   "source": [
    "totalVocab = unigramVocab + bigramVocab"
   ]
  },
  {
   "cell_type": "markdown",
   "metadata": {},
   "source": [
    "The, we can do a count vectorizer that takes as an argument the particular vocabulary that we are looking for."
   ]
  },
  {
   "cell_type": "code",
   "execution_count": 37,
   "metadata": {
    "collapsed": false
   },
   "outputs": [],
   "source": [
    "countVecAll = CountVectorizer(ngram_range = (1,2), vocabulary = totalVocab)\n",
    "wordMatrix = countVecAll.fit_transform(data.leadstems)"
   ]
  },
  {
   "cell_type": "markdown",
   "metadata": {},
   "source": [
    "We also made a couple of helper functions to save and load the sparse arrays that come out of the count vectorizer."
   ]
  },
  {
   "cell_type": "code",
   "execution_count": 38,
   "metadata": {
    "collapsed": true
   },
   "outputs": [],
   "source": [
    "def save_sparse_csr(filename,array):\n",
    "    np.savez(filename,data = array.data ,indices=array.indices,\n",
    "             indptr =array.indptr, shape=array.shape )\n",
    "\n",
    "def load_sparse_csr(filename):\n",
    "    loader = np.load(filename)\n",
    "    return scipy.sparse.csr_matrix((  loader['data'], loader['indices'], loader['indptr']),\n",
    "                         shape = loader['shape'])"
   ]
  },
  {
   "cell_type": "code",
   "execution_count": 149,
   "metadata": {
    "collapsed": true
   },
   "outputs": [],
   "source": [
    "save_sparse_csr('bigramWordMatrix.npz',wordMatrix)"
   ]
  },
  {
   "cell_type": "markdown",
   "metadata": {},
   "source": [
    "## Monthly Aggregates"
   ]
  },
  {
   "cell_type": "markdown",
   "metadata": {},
   "source": [
    "As the final step, we can make monthly aggregates of the unigrams and bigrams outputted by the count vectorizer. It is possible that we will still want to use the granular article level data, but the monthly aggregates will turn out to be very useful."
   ]
  },
  {
   "cell_type": "code",
   "execution_count": 39,
   "metadata": {
    "collapsed": false
   },
   "outputs": [],
   "source": [
    "grouped = data.groupby('yearmonth')"
   ]
  },
  {
   "cell_type": "code",
   "execution_count": 40,
   "metadata": {
    "collapsed": true
   },
   "outputs": [],
   "source": [
    "wordsByMonth = np.zeros((len(grouped.groups.keys()),wordMatrix.shape[1]))\n",
    "for i, month in enumerate(np.sort(grouped.groups.keys())):\n",
    "    wordsByMonth[i] = np.sum(wordMatrix[grouped.get_group(month).index], axis=0)"
   ]
  },
  {
   "cell_type": "markdown",
   "metadata": {
    "collapsed": false
   },
   "source": [
    "As an example of the monthly counts by word, we can see how often \"America\" appears"
   ]
  },
  {
   "cell_type": "code",
   "execution_count": 98,
   "metadata": {
    "collapsed": false
   },
   "outputs": [
    {
     "data": {
      "image/png": "[encoded data removed]",
      "text/plain": [
       "<matplotlib.figure.Figure at 0x125e6bad0>"
      ]
     },
     "metadata": {},
     "output_type": "display_data"
    }
   ],
   "source": [
    "fig = plt.figure(figsize=(11,5))\n",
    "ax = fig.add_subplot(111)\n",
    "ax.plot(range(len(grouped)),wordsByMonth[:,103])\n",
    "ax.set_title('Occurrences of \"{}\"'.format(totalVocab[103]))\n",
    "ax.set_ylabel('Occurrences')\n",
    "ax.set_xlabel('Time')\n",
    "ax.set_xlim((0,len(grouped)))\n",
    "ax.set_xticklabels(list(np.arange(1960,2018,8)));"
   ]
  }
 ],
 "metadata": {
  "anaconda-cloud": {},
  "kernelspec": {
   "display_name": "Python [conda env:AC209]",
   "language": "python",
   "name": "conda-env-AC209-py"
  },
  "language_info": {
   "codemirror_mode": {
    "name": "ipython",
    "version": 2
   },
   "file_extension": ".py",
   "mimetype": "text/x-python",
   "name": "python",
   "nbconvert_exporter": "python",
   "pygments_lexer": "ipython2",
   "version": "2.7.12"
  }
 },
 "nbformat": 4,
 "nbformat_minor": 0
}
